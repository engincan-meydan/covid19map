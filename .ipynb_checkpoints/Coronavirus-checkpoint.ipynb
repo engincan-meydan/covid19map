{
 "cells": [
  {
   "cell_type": "code",
   "execution_count": 1,
   "metadata": {
    "scrolled": true
   },
   "outputs": [],
   "source": [
    "from selenium import webdriver\n",
    "import plotly.graph_objs as go \n",
    "from plotly.offline import init_notebook_mode,iplot,plot\n",
    "import pandas as pd"
   ]
  },
  {
   "cell_type": "code",
   "execution_count": 2,
   "metadata": {},
   "outputs": [],
   "source": [
    "class Coronavirus():\n",
    "  def __init__(self):\n",
    "    self.driver = webdriver.Chrome()"
   ]
  },
  {
   "cell_type": "code",
   "execution_count": 3,
   "metadata": {},
   "outputs": [],
   "source": [
    "bot = Coronavirus()\n",
    "bot.driver.get('https://www.worldometers.info/coronavirus/')"
   ]
  },
  {
   "cell_type": "code",
   "execution_count": 4,
   "metadata": {},
   "outputs": [],
   "source": [
    "table = bot.driver.find_element_by_xpath('//*[@id=\"main_table_countries_today\"]/tbody[1]')\n",
    "a = table.text.split(\"\\n\")\n",
    "coronavirus = []\n",
    "for i in range(100):\n",
    "    b = a[i].split(\" \")\n",
    "    coronavirus.append(b)"
   ]
  },
  {
   "cell_type": "code",
   "execution_count": 5,
   "metadata": {},
   "outputs": [
    {
     "data": {
      "text/plain": [
       "['1',\n",
       " 'USA',\n",
       " '28,097,186',\n",
       " '+91,932',\n",
       " '492,231',\n",
       " '+2,618',\n",
       " '18,018,910',\n",
       " '9,586,045',\n",
       " '20,304',\n",
       " '84,578',\n",
       " '1,482',\n",
       " '331,952,598',\n",
       " '999,244',\n",
       " '332,203,863']"
      ]
     },
     "execution_count": 5,
     "metadata": {},
     "output_type": "execute_result"
    }
   ],
   "source": [
    "coronavirus[1]"
   ]
  },
  {
   "cell_type": "code",
   "execution_count": 6,
   "metadata": {},
   "outputs": [],
   "source": [
    "df = pd.DataFrame(coronavirus, columns=['#','Country','total_cases',\n",
    "                                      'new_cases','total_deaths',\n",
    "                                      'new_deaths','total_recovered',\n",
    "                                      'active_cases','serious_critical',\n",
    "                                     'total cases / 1m pop', 'deaths / 1m pop',\n",
    "                                     'total_tests', 'total_tests / 1m pop', 'population','-'])\n",
    "df = df.drop(columns='-')"
   ]
  },
  {
   "cell_type": "code",
   "execution_count": 7,
   "metadata": {
    "scrolled": true
   },
   "outputs": [],
   "source": [
    "df = df.apply(lambda x: x.str.replace(',',''))\n",
    "df = df[1::]"
   ]
  },
  {
   "cell_type": "code",
   "execution_count": 8,
   "metadata": {},
   "outputs": [
    {
     "data": {
      "text/html": [
       "<div>\n",
       "<style scoped>\n",
       "    .dataframe tbody tr th:only-of-type {\n",
       "        vertical-align: middle;\n",
       "    }\n",
       "\n",
       "    .dataframe tbody tr th {\n",
       "        vertical-align: top;\n",
       "    }\n",
       "\n",
       "    .dataframe thead th {\n",
       "        text-align: right;\n",
       "    }\n",
       "</style>\n",
       "<table border=\"1\" class=\"dataframe\">\n",
       "  <thead>\n",
       "    <tr style=\"text-align: right;\">\n",
       "      <th></th>\n",
       "      <th>#</th>\n",
       "      <th>Country</th>\n",
       "      <th>total_cases</th>\n",
       "      <th>new_cases</th>\n",
       "      <th>total_deaths</th>\n",
       "      <th>new_deaths</th>\n",
       "      <th>total_recovered</th>\n",
       "      <th>active_cases</th>\n",
       "      <th>serious_critical</th>\n",
       "      <th>total cases / 1m pop</th>\n",
       "      <th>deaths / 1m pop</th>\n",
       "      <th>total_tests</th>\n",
       "      <th>total_tests / 1m pop</th>\n",
       "      <th>population</th>\n",
       "    </tr>\n",
       "  </thead>\n",
       "  <tbody>\n",
       "    <tr>\n",
       "      <th>1</th>\n",
       "      <td>1</td>\n",
       "      <td>USA</td>\n",
       "      <td>28097186</td>\n",
       "      <td>+91932</td>\n",
       "      <td>492231</td>\n",
       "      <td>+2618</td>\n",
       "      <td>18018910</td>\n",
       "      <td>9586045</td>\n",
       "      <td>20304</td>\n",
       "      <td>84578</td>\n",
       "      <td>1482</td>\n",
       "      <td>331952598</td>\n",
       "      <td>999244</td>\n",
       "      <td>332203863</td>\n",
       "    </tr>\n",
       "    <tr>\n",
       "      <th>2</th>\n",
       "      <td>2</td>\n",
       "      <td>India</td>\n",
       "      <td>10892550</td>\n",
       "      <td>+12137</td>\n",
       "      <td>155588</td>\n",
       "      <td>+104</td>\n",
       "      <td>10598709</td>\n",
       "      <td>138253</td>\n",
       "      <td>8944</td>\n",
       "      <td>7845</td>\n",
       "      <td>112</td>\n",
       "      <td>204789784</td>\n",
       "      <td>147502</td>\n",
       "      <td>1388382654</td>\n",
       "    </tr>\n",
       "    <tr>\n",
       "      <th>3</th>\n",
       "      <td>3</td>\n",
       "      <td>Brazil</td>\n",
       "      <td>9765694</td>\n",
       "      <td>+49396</td>\n",
       "      <td>237601</td>\n",
       "      <td>+1204</td>\n",
       "      <td>8678327</td>\n",
       "      <td>849766</td>\n",
       "      <td>8318</td>\n",
       "      <td>45742</td>\n",
       "      <td>1113</td>\n",
       "      <td>28600000</td>\n",
       "      <td>133962</td>\n",
       "      <td>213493872</td>\n",
       "    </tr>\n",
       "    <tr>\n",
       "      <th>4</th>\n",
       "      <td>4</td>\n",
       "      <td>Russia</td>\n",
       "      <td>4042837</td>\n",
       "      <td>+15089</td>\n",
       "      <td>79194</td>\n",
       "      <td>+507</td>\n",
       "      <td>3559142</td>\n",
       "      <td>404501</td>\n",
       "      <td>2300</td>\n",
       "      <td>27696</td>\n",
       "      <td>543</td>\n",
       "      <td>106000000</td>\n",
       "      <td>726160</td>\n",
       "      <td>145973298</td>\n",
       "    </tr>\n",
       "    <tr>\n",
       "      <th>5</th>\n",
       "      <td>5</td>\n",
       "      <td>UK</td>\n",
       "      <td>4013799</td>\n",
       "      <td>+15144</td>\n",
       "      <td>116287</td>\n",
       "      <td>+758</td>\n",
       "      <td>2094007</td>\n",
       "      <td>1803505</td>\n",
       "      <td>3036</td>\n",
       "      <td>58934</td>\n",
       "      <td>1707</td>\n",
       "      <td>81044007</td>\n",
       "      <td>1189955</td>\n",
       "      <td>68106775</td>\n",
       "    </tr>\n",
       "  </tbody>\n",
       "</table>\n",
       "</div>"
      ],
      "text/plain": [
       "   # Country total_cases new_cases total_deaths new_deaths total_recovered  \\\n",
       "1  1     USA    28097186    +91932       492231      +2618        18018910   \n",
       "2  2   India    10892550    +12137       155588       +104        10598709   \n",
       "3  3  Brazil     9765694    +49396       237601      +1204         8678327   \n",
       "4  4  Russia     4042837    +15089        79194       +507         3559142   \n",
       "5  5      UK     4013799    +15144       116287       +758         2094007   \n",
       "\n",
       "  active_cases serious_critical total cases / 1m pop deaths / 1m pop  \\\n",
       "1      9586045            20304                84578            1482   \n",
       "2       138253             8944                 7845             112   \n",
       "3       849766             8318                45742            1113   \n",
       "4       404501             2300                27696             543   \n",
       "5      1803505             3036                58934            1707   \n",
       "\n",
       "  total_tests total_tests / 1m pop  population  \n",
       "1   331952598               999244   332203863  \n",
       "2   204789784               147502  1388382654  \n",
       "3    28600000               133962   213493872  \n",
       "4   106000000               726160   145973298  \n",
       "5    81044007              1189955    68106775  "
      ]
     },
     "execution_count": 8,
     "metadata": {},
     "output_type": "execute_result"
    }
   ],
   "source": [
    "df.head()"
   ]
  },
  {
   "cell_type": "code",
   "execution_count": 10,
   "metadata": {},
   "outputs": [
    {
     "data": {
      "text/plain": [
       "'temp-plot.html'"
      ]
     },
     "execution_count": 10,
     "metadata": {},
     "output_type": "execute_result"
    }
   ],
   "source": [
    "data = dict(\n",
    "        type = 'choropleth',\n",
    "        colorscale = 'ylorrd',\n",
    "        reversescale = False,\n",
    "        locations = df['Country'],\n",
    "        locationmode = \"country names\",\n",
    "        z = df['total_cases'],\n",
    "        text = df['Country'],\n",
    "        colorbar = {'title' : 'Total Coronavirus Cases'},\n",
    "      ) \n",
    "\n",
    "layout = dict(title = 'Coronavirus World Map',\n",
    "                geo = dict(showframe = False,showcountries= True)\n",
    "             )\n",
    "choromap = go.Figure(data = [data],layout = layout)\n",
    "plot(choromap,validate=False)"
   ]
  },
  {
   "cell_type": "code",
   "execution_count": null,
   "metadata": {},
   "outputs": [],
   "source": []
  }
 ],
 "metadata": {
  "kernelspec": {
   "display_name": "Python 3",
   "language": "python",
   "name": "python3"
  },
  "language_info": {
   "codemirror_mode": {
    "name": "ipython",
    "version": 3
   },
   "file_extension": ".py",
   "mimetype": "text/x-python",
   "name": "python",
   "nbconvert_exporter": "python",
   "pygments_lexer": "ipython3",
   "version": "3.8.5"
  }
 },
 "nbformat": 4,
 "nbformat_minor": 2
}
