{
 "cells": [
  {
   "cell_type": "code",
   "execution_count": 1,
   "metadata": {
    "scrolled": true
   },
   "outputs": [],
   "source": [
    "from selenium import webdriver\n",
    "import plotly.graph_objs as go \n",
    "from plotly.offline import init_notebook_mode,iplot,plot\n",
    "import pandas as pd"
   ]
  },
  {
   "cell_type": "code",
   "execution_count": 2,
   "metadata": {},
   "outputs": [],
   "source": [
    "class Coronavirus():\n",
    "  def __init__(self):\n",
    "    self.driver = webdriver.Chrome()"
   ]
  },
  {
   "cell_type": "code",
   "execution_count": 3,
   "metadata": {},
   "outputs": [],
   "source": [
    "bot = Coronavirus()\n",
    "bot.driver.get('https://www.worldometers.info/coronavirus/')"
   ]
  },
  {
   "cell_type": "code",
   "execution_count": 4,
   "metadata": {},
   "outputs": [],
   "source": [
    "table = bot.driver.find_element_by_xpath('//*[@id=\"main_table_countries_today\"]/tbody[1]')\n",
    "a = table.text.split(\"\\n\")\n",
    "coronavirus = []\n",
    "for i in range(100):\n",
    "    b = a[i].split(\" \")\n",
    "    coronavirus.append(b)"
   ]
  },
  {
   "cell_type": "code",
   "execution_count": 5,
   "metadata": {},
   "outputs": [
    {
     "data": {
      "text/plain": [
       "['1',\n",
       " 'USA',\n",
       " '28,075,494',\n",
       " '+70,240',\n",
       " '491,472',\n",
       " '+1,859',\n",
       " '17,986,170',\n",
       " '9,597,852',\n",
       " '20,371',\n",
       " '84,514',\n",
       " '1,479',\n",
       " '331,710,437',\n",
       " '998,531',\n",
       " '332,198,570']"
      ]
     },
     "execution_count": 5,
     "metadata": {},
     "output_type": "execute_result"
    }
   ],
   "source": [
    "coronavirus[1]"
   ]
  },
  {
   "cell_type": "code",
   "execution_count": 6,
   "metadata": {},
   "outputs": [],
   "source": [
    "df = pd.DataFrame(coronavirus, columns=['#','Country','total_cases',\n",
    "                                      'new_cases','total_deaths',\n",
    "                                      'new_deaths','total_recovered',\n",
    "                                      'active_cases','serious_critical',\n",
    "                                     'total cases / 1m pop', 'deaths / 1m pop',\n",
    "                                     'total_tests', 'total_tests / 1m pop', 'population','-'])\n",
    "df = df.drop(columns='-')\n",
    "# df = df.drop(columns='')"
   ]
  },
  {
   "cell_type": "code",
   "execution_count": 7,
   "metadata": {
    "scrolled": true
   },
   "outputs": [],
   "source": [
    "df = df.apply(lambda x: x.str.replace(',',''))\n",
    "df = df[1::]\n",
    "df.set_index('Country', inplace=True)"
   ]
  },
  {
   "cell_type": "code",
   "execution_count": 8,
   "metadata": {},
   "outputs": [
    {
     "data": {
      "text/html": [
       "<div>\n",
       "<style scoped>\n",
       "    .dataframe tbody tr th:only-of-type {\n",
       "        vertical-align: middle;\n",
       "    }\n",
       "\n",
       "    .dataframe tbody tr th {\n",
       "        vertical-align: top;\n",
       "    }\n",
       "\n",
       "    .dataframe thead th {\n",
       "        text-align: right;\n",
       "    }\n",
       "</style>\n",
       "<table border=\"1\" class=\"dataframe\">\n",
       "  <thead>\n",
       "    <tr style=\"text-align: right;\">\n",
       "      <th></th>\n",
       "      <th>#</th>\n",
       "      <th>total_cases</th>\n",
       "      <th>new_cases</th>\n",
       "      <th>total_deaths</th>\n",
       "      <th>new_deaths</th>\n",
       "      <th>total_recovered</th>\n",
       "      <th>active_cases</th>\n",
       "      <th>serious_critical</th>\n",
       "      <th>total cases / 1m pop</th>\n",
       "      <th>deaths / 1m pop</th>\n",
       "      <th>total_tests</th>\n",
       "      <th>total_tests / 1m pop</th>\n",
       "      <th>population</th>\n",
       "    </tr>\n",
       "    <tr>\n",
       "      <th>Country</th>\n",
       "      <th></th>\n",
       "      <th></th>\n",
       "      <th></th>\n",
       "      <th></th>\n",
       "      <th></th>\n",
       "      <th></th>\n",
       "      <th></th>\n",
       "      <th></th>\n",
       "      <th></th>\n",
       "      <th></th>\n",
       "      <th></th>\n",
       "      <th></th>\n",
       "      <th></th>\n",
       "    </tr>\n",
       "  </thead>\n",
       "  <tbody>\n",
       "    <tr>\n",
       "      <th>USA</th>\n",
       "      <td>1</td>\n",
       "      <td>28075494</td>\n",
       "      <td>+70240</td>\n",
       "      <td>491472</td>\n",
       "      <td>+1859</td>\n",
       "      <td>17986170</td>\n",
       "      <td>9597852</td>\n",
       "      <td>20371</td>\n",
       "      <td>84514</td>\n",
       "      <td>1479</td>\n",
       "      <td>331710437</td>\n",
       "      <td>998531</td>\n",
       "      <td>332198570</td>\n",
       "    </tr>\n",
       "    <tr>\n",
       "      <th>India</th>\n",
       "      <td>2</td>\n",
       "      <td>10892550</td>\n",
       "      <td>+12137</td>\n",
       "      <td>155588</td>\n",
       "      <td>+104</td>\n",
       "      <td>10598709</td>\n",
       "      <td>138253</td>\n",
       "      <td>8944</td>\n",
       "      <td>7846</td>\n",
       "      <td>112</td>\n",
       "      <td>204789784</td>\n",
       "      <td>147506</td>\n",
       "      <td>1388345614</td>\n",
       "    </tr>\n",
       "    <tr>\n",
       "      <th>Brazil</th>\n",
       "      <td>3</td>\n",
       "      <td>9765455</td>\n",
       "      <td>+49157</td>\n",
       "      <td>237489</td>\n",
       "      <td>+1092</td>\n",
       "      <td>8643693</td>\n",
       "      <td>884273</td>\n",
       "      <td>8318</td>\n",
       "      <td>45742</td>\n",
       "      <td>1112</td>\n",
       "      <td>28600000</td>\n",
       "      <td>133964</td>\n",
       "      <td>213489750</td>\n",
       "    </tr>\n",
       "    <tr>\n",
       "      <th>Russia</th>\n",
       "      <td>4</td>\n",
       "      <td>4042837</td>\n",
       "      <td>+15089</td>\n",
       "      <td>79194</td>\n",
       "      <td>+507</td>\n",
       "      <td>3559142</td>\n",
       "      <td>404501</td>\n",
       "      <td>2300</td>\n",
       "      <td>27696</td>\n",
       "      <td>543</td>\n",
       "      <td>106000000</td>\n",
       "      <td>726161</td>\n",
       "      <td>145973128</td>\n",
       "    </tr>\n",
       "    <tr>\n",
       "      <th>UK</th>\n",
       "      <td>5</td>\n",
       "      <td>4013799</td>\n",
       "      <td>+15144</td>\n",
       "      <td>116287</td>\n",
       "      <td>+758</td>\n",
       "      <td>2094007</td>\n",
       "      <td>1803505</td>\n",
       "      <td>3036</td>\n",
       "      <td>58935</td>\n",
       "      <td>1707</td>\n",
       "      <td>81044007</td>\n",
       "      <td>1189972</td>\n",
       "      <td>68105802</td>\n",
       "    </tr>\n",
       "  </tbody>\n",
       "</table>\n",
       "</div>"
      ],
      "text/plain": [
       "         # total_cases new_cases total_deaths new_deaths total_recovered  \\\n",
       "Country                                                                    \n",
       "USA      1    28075494    +70240       491472      +1859        17986170   \n",
       "India    2    10892550    +12137       155588       +104        10598709   \n",
       "Brazil   3     9765455    +49157       237489      +1092         8643693   \n",
       "Russia   4     4042837    +15089        79194       +507         3559142   \n",
       "UK       5     4013799    +15144       116287       +758         2094007   \n",
       "\n",
       "        active_cases serious_critical total cases / 1m pop deaths / 1m pop  \\\n",
       "Country                                                                      \n",
       "USA          9597852            20371                84514            1479   \n",
       "India         138253             8944                 7846             112   \n",
       "Brazil        884273             8318                45742            1112   \n",
       "Russia        404501             2300                27696             543   \n",
       "UK           1803505             3036                58935            1707   \n",
       "\n",
       "        total_tests total_tests / 1m pop  population  \n",
       "Country                                               \n",
       "USA       331710437               998531   332198570  \n",
       "India     204789784               147506  1388345614  \n",
       "Brazil     28600000               133964   213489750  \n",
       "Russia    106000000               726161   145973128  \n",
       "UK         81044007              1189972    68105802  "
      ]
     },
     "execution_count": 8,
     "metadata": {},
     "output_type": "execute_result"
    }
   ],
   "source": [
    "df.head()"
   ]
  },
  {
   "cell_type": "code",
   "execution_count": 72,
   "metadata": {},
   "outputs": [
    {
     "data": {
      "text/plain": [
       "'temp-plot.html'"
      ]
     },
     "execution_count": 72,
     "metadata": {},
     "output_type": "execute_result"
    }
   ],
   "source": [
    "data = dict(\n",
    "        type = 'choropleth',\n",
    "        colorscale = 'ylorrd',\n",
    "        reversescale = False,\n",
    "        locations = sample['Country'],\n",
    "        locationmode = \"country names\",\n",
    "        z = sample['total_cases'],\n",
    "        text = sample['Country'],\n",
    "        colorbar = {'title' : 'Total Coronavirus Cases'},\n",
    "      ) \n",
    "\n",
    "layout = dict(title = 'Coronavirus World Map',\n",
    "                geo = dict(showframe = False,showcountries= True)\n",
    "             )\n",
    "choromap = go.Figure(data = [data],layout = layout)\n",
    "plot(choromap,validate=False)"
   ]
  }
 ],
 "metadata": {
  "kernelspec": {
   "display_name": "Python 3",
   "language": "python",
   "name": "python3"
  },
  "language_info": {
   "codemirror_mode": {
    "name": "ipython",
    "version": 3
   },
   "file_extension": ".py",
   "mimetype": "text/x-python",
   "name": "python",
   "nbconvert_exporter": "python",
   "pygments_lexer": "ipython3",
   "version": "3.8.5"
  }
 },
 "nbformat": 4,
 "nbformat_minor": 2
}
